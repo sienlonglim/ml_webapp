{
 "cells": [
  {
   "cell_type": "markdown",
   "metadata": {},
   "source": [
    "# Retired code below, too slow due to numerous API calls"
   ]
  },
  {
   "cell_type": "markdown",
   "metadata": {},
   "source": [
    "### Get minimum distance/time using OneMap API call"
   ]
  },
  {
   "cell_type": "code",
   "execution_count": null,
   "metadata": {},
   "outputs": [],
   "source": [
    "def route_api_call(routeType: str, start: str, end: str, metric: str, credentials : str,\n",
    "                   date = '01-26-2023', time_start = '07:35:00', mode = 'TRANSIT', \n",
    "                   maxWalkDistance = 1000, numItineraries = 2, verbose=0, recursive_call=None):\n",
    "    '''\n",
    "    Function to api call OneMap for routing\n",
    "    ## Parameters\n",
    "    routeType : str\n",
    "        option between ['walk','drive','cycle', 'pt]\n",
    "    Below only applicable if routeType == 'pt'\n",
    "        date : str MM-DD-YYYY\n",
    "            default '01-26-2023'\n",
    "        time : str HH:MM:SS\n",
    "            default '07:35:00'\n",
    "        mode : str \n",
    "            choose between TRANSIT, BUS, RAIL\n",
    "            default 'TRANSIT'\n",
    "        maxWalkDistance : int\n",
    "            max walking distance allowed, in meters\n",
    "            default 1000\n",
    "        numItineraries : int \n",
    "            number of suggested routes\n",
    "            default 2\n",
    "    verbose : int \n",
    "        1 to print time and distance, 2 for the whole json response\n",
    "        default 0\n",
    "    \n",
    "    ### Returns (time, distance) for chosen routeType\n",
    "        time is in seconds \n",
    "        total_distance is in metres.\n",
    "    '''\n",
    "    # Lag time between calls to ensure we stay within 250 calls per minute, 0.24 is calculated time\n",
    "    # Removed, server lag response gives us an average of about 0.7s per call already, no need to slow down somemore\n",
    "    # time.sleep(0.24)\n",
    "\n",
    "    # Walk\n",
    "    if routeType in ['walk','drive','cycle']:\n",
    "        response = requests.get(f\"https://developers.onemap.sg/privateapi/routingsvc/route?start={start}&end={end}&routeType={routeType}&token={credentials}\")\n",
    "        response.raise_for_status()\n",
    "        data = response.json()\n",
    "        time_taken = data['route_summary']['total_time']\n",
    "        distance = data['route_summary']['total_distance']\n",
    "        if verbose==1:\n",
    "            print(f'Walking time: {time_taken}')\n",
    "            print(f'Walking distance: {distance}')\n",
    "    \n",
    "    # Public transport\n",
    "    elif routeType == 'pt':   \n",
    "        response = requests.get(f\"https://developers.onemap.sg/privateapi/routingsvc/route?start={start}&end={end}&routeType={routeType}&token={credentials}&date={date}&time={time_start}&mode={mode}&maxWalkDistance={maxWalkDistance}&numItineraries={numItineraries}\")\n",
    "        response.raise_for_status()\n",
    "        data = response.json()\n",
    "\n",
    "        summary = {'walkTime': data['plan']['itineraries'][0]['walkTime'],\n",
    "                   'transitTime': data['plan']['itineraries'][0]['transitTime'],\n",
    "                   'waitingTime': data['plan']['itineraries'][0]['waitingTime']\n",
    "                   }\n",
    "        distance = time_taken = sum(summary.values())\n",
    "        pt_walk_distance = data['plan']['itineraries'][0]['walkDistance']\n",
    "        if verbose==1:\n",
    "            pprint(summary)\n",
    "            print(f'Total public transport time: {time_taken}')\n",
    "            print(f'Walk distance to public transport: {pt_walk_distance}')\n",
    "    else:\n",
    "        raise KeyError(\"Enter valid routeType, choose between 'walk','drive','cycle', 'pt'\")\n",
    "    \n",
    "    # To end the call\n",
    "    if verbose==2:\n",
    "            pprint(data)\n",
    "    '''# To Let us know if the retry on recursive call is successful\n",
    "    if recursive_call:\n",
    "        print('\\tRetry successful')'''\n",
    "\n",
    "    return time_taken if metric=='time' else distance\n",
    "\n",
    "@timeit\n",
    "@error_handler\n",
    "def time_taken_to_station(geo_data_df, credentials, mrt_coordinates_dict=mrt_coordinates_dict,\n",
    "                          n_nearest_stations=n_nearest_stations):\n",
    "    '''\n",
    "    Function to coordinate route_api_call() to build walking distance and minimum time to nearest mrts\n",
    "    '''\n",
    "    start = geo_data_df['lat_long']\n",
    "    # Columns will depend on how many columns of nearest_stations we obtained previously, defaulted to 2\n",
    "    columns = geo_data_df[['nearest_station_'+ str(x) for x in range(n_nearest_stations)]] \n",
    "\n",
    "    time_distance = []\n",
    "    for index, mrt_station in enumerate(columns):\n",
    "        # List comprehension to build latitude and longitude in string (1.121231,102.123123)\n",
    "        list_of_strings = [str(x) for x in mrt_coordinates_dict[mrt_station]]\n",
    "        end = ','.join(list_of_strings)\n",
    "\n",
    "        # Only return closest station's walking distance\n",
    "        if index==0:\n",
    "            walk= route_api_call('walk', start, end, 'distance', credentials)\n",
    "            if walk:\n",
    "                time_distance.append(walk)\n",
    "            else:\n",
    "                time_distance.append(0)\n",
    "\n",
    "        # Return time for each station\n",
    "        pt = route_api_call('pt', start, end, 'time', credentials, numItineraries = 1)\n",
    "        if pt:\n",
    "            time_distance.append(pt)\n",
    "        else:\n",
    "            time_distance.append(0)\n",
    "\n",
    "    return time_distance"
   ]
  },
  {
   "cell_type": "markdown",
   "metadata": {},
   "source": [
    "Due to the large amount of API calls, we will split the data into batches to extract the data."
   ]
  },
  {
   "cell_type": "code",
   "execution_count": null,
   "metadata": {},
   "outputs": [],
   "source": [
    "@error_handler\n",
    "def split_df(geo_data_df: pd.DataFrame, interval: int=500):\n",
    "    splitted_df_list = []\n",
    "    for start in range(0, len(geo_data_df.index), interval):\n",
    "        splitted_df_list.append(geo_data_df.iloc[start:start+interval , :])\n",
    "    print(f'Number of dataframes split into: {len(splitted_df_list)}')\n",
    "    return splitted_df_list\n",
    "\n",
    "def iterate_function(splitted_df_list: list, results: list, func: function, start: int, stop: int):\n",
    "    '''\n",
    "    Appends to results (list) in place.\n",
    "    '''\n",
    "    print(f'Writing to {id(results)} with {len(results)} elements already present')\n",
    "    for index, splitted_df in enumerate(splitted_df_list):\n",
    "        if index >= start and index < stop:\n",
    "            time_distance = splitted_df.apply(func, credentials=credentials, n_nearest_stations=n_nearest_stations, axis=1)\n",
    "            results.append(time_distance)\n",
    "            cont = input(f'Done with index {index}, continue? Y/N \\n')\n",
    "            if cont.lower() == 'n':\n",
    "                break\n",
    "    print(f'Length of updated results list: {len(results)}')\n",
    "\n",
    "splitted_df_list = split_df(geo_data_df, interval=400)"
   ]
  },
  {
   "cell_type": "markdown",
   "metadata": {},
   "source": [
    "Run the code by batches while appending the results to a list inplace"
   ]
  },
  {
   "cell_type": "code",
   "execution_count": null,
   "metadata": {},
   "outputs": [],
   "source": [
    "credentials=get_token(\"venv/onemap.json\")\n",
    "time_distance_list = []\n",
    "iterate_function(splitted_df_list, time_distance_list, time_taken_to_station, 0, len(splitted_df_list))"
   ]
  },
  {
   "cell_type": "markdown",
   "metadata": {},
   "source": [
    "Put the DataFrame back together if all runs successful"
   ]
  },
  {
   "cell_type": "code",
   "execution_count": null,
   "metadata": {},
   "outputs": [],
   "source": [
    "if len(splitted_df_list) == len(time_distance_list):\n",
    "    time_distance = pd.DataFrame(pd.concat(time_distance_list).to_dict()).transpose()\n",
    "    time_distance.columns=['dist_to_station']+['time_route_'+ str(x) for x in range(n_nearest_stations)]\n",
    "    display(time_distance)\n",
    "else:\n",
    "    raise IndexError('Mismatch in length of starting and results list')"
   ]
  },
  {
   "cell_type": "markdown",
   "metadata": {},
   "source": [
    "### Determine minimum time"
   ]
  },
  {
   "cell_type": "code",
   "execution_count": null,
   "metadata": {},
   "outputs": [],
   "source": [
    "# temporary df to find minimum time among public transport times\n",
    "temp_df = time_distance.drop(labels=['dist_to_station'], axis=1)\n",
    "min_pt_time = temp_df.min(axis=1).rename('min_pt_time')\n",
    "geo_data_df = pd.concat([time_distance.loc[:,'dist_to_station'],min_pt_time], axis=1)\n",
    "                        # Unused columns ['lat_long', 'latitude', 'longitude', 'postal_code']+\n",
    "geo_data_df"
   ]
  }
 ],
 "metadata": {
  "language_info": {
   "name": "python"
  },
  "orig_nbformat": 4
 },
 "nbformat": 4,
 "nbformat_minor": 2
}
