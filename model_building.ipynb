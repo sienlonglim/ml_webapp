{
 "cells": [
  {
   "cell_type": "code",
   "execution_count": 2,
   "metadata": {},
   "outputs": [],
   "source": [
    "import numpy as np\n",
    "import pandas as pd\n",
    "import seaborn as sns\n",
    "import matplotlib.pyplot as plt\n",
    "from sklearn.preprocessing import LabelEncoder, MinMaxScaler\n",
    "from sklearn.model_selection import train_test_split, RandomizedSearchCV\n",
    "from sklearn.metrics import r2_score\n",
    "from sklearn.linear_model import SGDRegressor, LassoCV\n",
    "from sklearn.tree import DecisionTreeRegressor\n",
    "from sklearn.feature_selection import mutual_info_regression, SelectKBest\n",
    "from sklearn.ensemble import RandomForestRegressor, GradientBoostingRegressor\n",
    "import joblib"
   ]
  },
  {
   "attachments": {},
   "cell_type": "markdown",
   "metadata": {},
   "source": [
    "# Exploratory Data Analysis and Model Building"
   ]
  },
  {
   "cell_type": "code",
   "execution_count": 3,
   "metadata": {},
   "outputs": [
    {
     "data": {
      "text/html": [
       "<div>\n",
       "<style scoped>\n",
       "    .dataframe tbody tr th:only-of-type {\n",
       "        vertical-align: middle;\n",
       "    }\n",
       "\n",
       "    .dataframe tbody tr th {\n",
       "        vertical-align: top;\n",
       "    }\n",
       "\n",
       "    .dataframe thead th {\n",
       "        text-align: right;\n",
       "    }\n",
       "</style>\n",
       "<table border=\"1\" class=\"dataframe\">\n",
       "  <thead>\n",
       "    <tr style=\"text-align: right;\">\n",
       "      <th></th>\n",
       "      <th>resale_price</th>\n",
       "      <th>year</th>\n",
       "      <th>month</th>\n",
       "      <th>timeseries_month</th>\n",
       "      <th>region</th>\n",
       "      <th>town</th>\n",
       "      <th>rooms</th>\n",
       "      <th>avg_storey</th>\n",
       "      <th>floor_area_sqm</th>\n",
       "      <th>remaining_lease</th>\n",
       "    </tr>\n",
       "    <tr>\n",
       "      <th>_id</th>\n",
       "      <th></th>\n",
       "      <th></th>\n",
       "      <th></th>\n",
       "      <th></th>\n",
       "      <th></th>\n",
       "      <th></th>\n",
       "      <th></th>\n",
       "      <th></th>\n",
       "      <th></th>\n",
       "      <th></th>\n",
       "    </tr>\n",
       "  </thead>\n",
       "  <tbody>\n",
       "    <tr>\n",
       "      <th>150072</th>\n",
       "      <td>298000.0</td>\n",
       "      <td>2023</td>\n",
       "      <td>4</td>\n",
       "      <td>2023-04-01</td>\n",
       "      <td>North-East</td>\n",
       "      <td>Ang Mo Kio</td>\n",
       "      <td>2.0</td>\n",
       "      <td>8.0</td>\n",
       "      <td>44.0</td>\n",
       "      <td>53.750000</td>\n",
       "    </tr>\n",
       "    <tr>\n",
       "      <th>152257</th>\n",
       "      <td>865000.0</td>\n",
       "      <td>2023</td>\n",
       "      <td>4</td>\n",
       "      <td>2023-04-01</td>\n",
       "      <td>North</td>\n",
       "      <td>Yishun</td>\n",
       "      <td>5.5</td>\n",
       "      <td>11.0</td>\n",
       "      <td>142.0</td>\n",
       "      <td>63.833333</td>\n",
       "    </tr>\n",
       "    <tr>\n",
       "      <th>152256</th>\n",
       "      <td>780000.0</td>\n",
       "      <td>2023</td>\n",
       "      <td>4</td>\n",
       "      <td>2023-04-01</td>\n",
       "      <td>North</td>\n",
       "      <td>Yishun</td>\n",
       "      <td>5.5</td>\n",
       "      <td>11.0</td>\n",
       "      <td>142.0</td>\n",
       "      <td>62.166667</td>\n",
       "    </tr>\n",
       "    <tr>\n",
       "      <th>152255</th>\n",
       "      <td>935000.0</td>\n",
       "      <td>2023</td>\n",
       "      <td>4</td>\n",
       "      <td>2023-04-01</td>\n",
       "      <td>North</td>\n",
       "      <td>Yishun</td>\n",
       "      <td>5.5</td>\n",
       "      <td>5.0</td>\n",
       "      <td>164.0</td>\n",
       "      <td>68.166667</td>\n",
       "    </tr>\n",
       "    <tr>\n",
       "      <th>152254</th>\n",
       "      <td>892000.0</td>\n",
       "      <td>2023</td>\n",
       "      <td>4</td>\n",
       "      <td>2023-04-01</td>\n",
       "      <td>North</td>\n",
       "      <td>Yishun</td>\n",
       "      <td>5.5</td>\n",
       "      <td>2.0</td>\n",
       "      <td>169.0</td>\n",
       "      <td>68.333333</td>\n",
       "    </tr>\n",
       "  </tbody>\n",
       "</table>\n",
       "</div>"
      ],
      "text/plain": [
       "        resale_price  year  month timeseries_month      region        town   \n",
       "_id                                                                          \n",
       "150072      298000.0  2023      4       2023-04-01  North-East  Ang Mo Kio  \\\n",
       "152257      865000.0  2023      4       2023-04-01       North      Yishun   \n",
       "152256      780000.0  2023      4       2023-04-01       North      Yishun   \n",
       "152255      935000.0  2023      4       2023-04-01       North      Yishun   \n",
       "152254      892000.0  2023      4       2023-04-01       North      Yishun   \n",
       "\n",
       "        rooms  avg_storey  floor_area_sqm  remaining_lease  \n",
       "_id                                                         \n",
       "150072    2.0         8.0            44.0        53.750000  \n",
       "152257    5.5        11.0           142.0        63.833333  \n",
       "152256    5.5        11.0           142.0        62.166667  \n",
       "152255    5.5         5.0           164.0        68.166667  \n",
       "152254    5.5         2.0           169.0        68.333333  "
      ]
     },
     "metadata": {},
     "output_type": "display_data"
    },
    {
     "name": "stdout",
     "output_type": "stream",
     "text": [
      "(8861, 10)\n"
     ]
    }
   ],
   "source": [
    "df = pd.read_csv('static/2023_01_to_04.csv', index_col=0)\n",
    "display(df.head())\n",
    "print(df.shape)"
   ]
  },
  {
   "attachments": {},
   "cell_type": "markdown",
   "metadata": {},
   "source": [
    "## 1. EDA\n",
    "### Summary of actions before training\n",
    "\n",
    "1. Handling null values and Checking for collinearity\n",
    "2. Preprocessing (mean encoding)\n",
    "3. Feature selection (KBest, Lasso regression)\n",
    "4. Model selection\n",
    "5. Hyperparameter tuning "
   ]
  },
  {
   "attachments": {},
   "cell_type": "markdown",
   "metadata": {},
   "source": [
    "### 1.1 Handling null values"
   ]
  },
  {
   "cell_type": "code",
   "execution_count": 4,
   "metadata": {},
   "outputs": [],
   "source": [
    "#display(df[df['dist_to_station'].isna()])\n",
    "df.dropna(inplace=True)"
   ]
  },
  {
   "cell_type": "code",
   "execution_count": 5,
   "metadata": {},
   "outputs": [
    {
     "data": {
      "text/plain": [
       "resale_price        0\n",
       "year                0\n",
       "month               0\n",
       "timeseries_month    0\n",
       "region              0\n",
       "town                0\n",
       "rooms               0\n",
       "avg_storey          0\n",
       "floor_area_sqm      0\n",
       "remaining_lease     0\n",
       "dtype: int64"
      ]
     },
     "metadata": {},
     "output_type": "display_data"
    }
   ],
   "source": [
    "display(df.isna().sum())"
   ]
  },
  {
   "attachments": {},
   "cell_type": "markdown",
   "metadata": {},
   "source": [
    "### Explanation for each feature\n",
    "\n",
    "| Feature           | Explanation                                                                                     |\n",
    "|-------------------|-------------------------------------------------------------------------------------------------|\n",
    "| resale_price      | Dependent variable, the selling price of the flat                                               |\n",
    "| region            | Region of the flat                                                                              |\n",
    "| town              | Town district of the flat                                                                       |\n",
    "| rooms             | Number of rooms in the flat (whole numbers except for 4.5, which represents an executive flat with an extra study/balcony) |\n",
    "| avg_storey        | Mean value of the floor range (intervals of 3 storeys)                                          |\n",
    "| floor_area_sqm    | Total floor area (in square meters) of the flat                                                 |\n",
    "| remaining_lease   | Remaining lease of the flat in months                                                           |\n",
    "| dist_to_station   | Distance in meters to the nearest MRT (Mass Rapid Transit) station                              |\n",
    "| min_pt_time       | Time in seconds to reach the nearest MRT station by public transport and walking                |\n"
   ]
  },
  {
   "attachments": {},
   "cell_type": "markdown",
   "metadata": {},
   "source": [
    "### 1.1 Checking for collinearity among numerical features\n",
    "* There is strong collinearity between \n",
    "    * floor_area_sqm and rooms (0.86)\n",
    "    * dist_to_station and min_pt_time (0.69)\n",
    "* Even much so higher than their correlation with output (resale price)\n",
    "* For linear models, we need to remove one of each pair of feature to ensure that there is no multicollinearity, for this I will remove the feature with lower Pearson's correlation with our output\n",
    "    * rooms (0.65)\n",
    "    * min_pt_time (0.69)"
   ]
  },
  {
   "cell_type": "code",
   "execution_count": 6,
   "metadata": {},
   "outputs": [
    {
     "data": {
      "text/plain": [
       "<Axes: >"
      ]
     },
     "execution_count": 6,
     "metadata": {},
     "output_type": "execute_result"
    },
    {
     "data": {
      "image/png": "[encoded data removed]",
      "text/plain": [
       "<Figure size 640x480 with 2 Axes>"
      ]
     },
     "metadata": {},
     "output_type": "display_data"
    }
   ],
   "source": [
    "numerical_columns = df[['resale_price', 'floor_area_sqm', 'remaining_lease', 'rooms', 'avg_storey']] #, 'dist_to_station', 'min_pt_time']]\n",
    "sns.heatmap(numerical_columns.corr(), annot=True)"
   ]
  },
  {
   "attachments": {},
   "cell_type": "markdown",
   "metadata": {},
   "source": [
    "#### What are the most expensive neighbourhoods?\n",
    "\n",
    "Each neighbourhood has a different mean price due to a non-exhaustive number of factors:\n",
    "\n",
    "* location\n",
    "* infrastructure and amenitites\n",
    "* affluent / less affluent neighbourhoods\n",
    "* supply and demand\n",
    "* market speculation  "
   ]
  },
  {
   "cell_type": "code",
   "execution_count": 7,
   "metadata": {},
   "outputs": [
    {
     "data": {
      "text/html": [
       "<style type=\"text/css\">\n",
       "#T_564d5_row0_col0, #T_564d5_row2_col6 {\n",
       "  background-color: red;\n",
       "  background-color: green;\n",
       "}\n",
       "#T_564d5_row0_col1, #T_564d5_row2_col3, #T_564d5_row2_col4, #T_564d5_row4_col2, #T_564d5_row4_col5 {\n",
       "  background-color: green;\n",
       "}\n",
       "#T_564d5_row0_col3, #T_564d5_row0_col4, #T_564d5_row0_col5, #T_564d5_row1_col1, #T_564d5_row3_col2 {\n",
       "  background-color: red;\n",
       "}\n",
       "</style>\n",
       "<table id=\"T_564d5\">\n",
       "  <thead>\n",
       "    <tr>\n",
       "      <th class=\"blank level0\" >&nbsp;</th>\n",
       "      <th id=\"T_564d5_level0_col0\" class=\"col_heading level0 col0\" >1 room</th>\n",
       "      <th id=\"T_564d5_level0_col1\" class=\"col_heading level0 col1\" >2 room</th>\n",
       "      <th id=\"T_564d5_level0_col2\" class=\"col_heading level0 col2\" >3 room</th>\n",
       "      <th id=\"T_564d5_level0_col3\" class=\"col_heading level0 col3\" >4 room</th>\n",
       "      <th id=\"T_564d5_level0_col4\" class=\"col_heading level0 col4\" >5 room</th>\n",
       "      <th id=\"T_564d5_level0_col5\" class=\"col_heading level0 col5\" >Executive</th>\n",
       "      <th id=\"T_564d5_level0_col6\" class=\"col_heading level0 col6\" >Mansionette</th>\n",
       "    </tr>\n",
       "    <tr>\n",
       "      <th class=\"index_name level0\" >region</th>\n",
       "      <th class=\"blank col0\" >&nbsp;</th>\n",
       "      <th class=\"blank col1\" >&nbsp;</th>\n",
       "      <th class=\"blank col2\" >&nbsp;</th>\n",
       "      <th class=\"blank col3\" >&nbsp;</th>\n",
       "      <th class=\"blank col4\" >&nbsp;</th>\n",
       "      <th class=\"blank col5\" >&nbsp;</th>\n",
       "      <th class=\"blank col6\" >&nbsp;</th>\n",
       "    </tr>\n",
       "  </thead>\n",
       "  <tbody>\n",
       "    <tr>\n",
       "      <th id=\"T_564d5_level0_row0\" class=\"row_heading level0 row0\" >Central</th>\n",
       "      <td id=\"T_564d5_row0_col0\" class=\"data row0 col0\" >238,500</td>\n",
       "      <td id=\"T_564d5_row0_col1\" class=\"data row0 col1\" >270,000</td>\n",
       "      <td id=\"T_564d5_row0_col2\" class=\"data row0 col2\" >385,000</td>\n",
       "      <td id=\"T_564d5_row0_col3\" class=\"data row0 col3\" >755,000</td>\n",
       "      <td id=\"T_564d5_row0_col4\" class=\"data row0 col4\" >885,000</td>\n",
       "      <td id=\"T_564d5_row0_col5\" class=\"data row0 col5\" >1,030,000</td>\n",
       "      <td id=\"T_564d5_row0_col6\" class=\"data row0 col6\" >nan</td>\n",
       "    </tr>\n",
       "    <tr>\n",
       "      <th id=\"T_564d5_level0_row1\" class=\"row_heading level0 row1\" >East</th>\n",
       "      <td id=\"T_564d5_row1_col0\" class=\"data row1 col0\" >nan</td>\n",
       "      <td id=\"T_564d5_row1_col1\" class=\"data row1 col1\" >346,500</td>\n",
       "      <td id=\"T_564d5_row1_col2\" class=\"data row1 col2\" >389,444</td>\n",
       "      <td id=\"T_564d5_row1_col3\" class=\"data row1 col3\" >542,000</td>\n",
       "      <td id=\"T_564d5_row1_col4\" class=\"data row1 col4\" >656,500</td>\n",
       "      <td id=\"T_564d5_row1_col5\" class=\"data row1 col5\" >840,000</td>\n",
       "      <td id=\"T_564d5_row1_col6\" class=\"data row1 col6\" >nan</td>\n",
       "    </tr>\n",
       "    <tr>\n",
       "      <th id=\"T_564d5_level0_row2\" class=\"row_heading level0 row2\" >North</th>\n",
       "      <td id=\"T_564d5_row2_col0\" class=\"data row2 col0\" >nan</td>\n",
       "      <td id=\"T_564d5_row2_col1\" class=\"data row2 col1\" >322,000</td>\n",
       "      <td id=\"T_564d5_row2_col2\" class=\"data row2 col2\" >388,000</td>\n",
       "      <td id=\"T_564d5_row2_col3\" class=\"data row2 col3\" >490,000</td>\n",
       "      <td id=\"T_564d5_row2_col4\" class=\"data row2 col4\" >600,000</td>\n",
       "      <td id=\"T_564d5_row2_col5\" class=\"data row2 col5\" >768,000</td>\n",
       "      <td id=\"T_564d5_row2_col6\" class=\"data row2 col6\" >1,080,000</td>\n",
       "    </tr>\n",
       "    <tr>\n",
       "      <th id=\"T_564d5_level0_row3\" class=\"row_heading level0 row3\" >North-East</th>\n",
       "      <td id=\"T_564d5_row3_col0\" class=\"data row3 col0\" >nan</td>\n",
       "      <td id=\"T_564d5_row3_col1\" class=\"data row3 col1\" >330,000</td>\n",
       "      <td id=\"T_564d5_row3_col2\" class=\"data row3 col2\" >406,500</td>\n",
       "      <td id=\"T_564d5_row3_col3\" class=\"data row3 col3\" >560,888</td>\n",
       "      <td id=\"T_564d5_row3_col4\" class=\"data row3 col4\" >650,000</td>\n",
       "      <td id=\"T_564d5_row3_col5\" class=\"data row3 col5\" >820,000</td>\n",
       "      <td id=\"T_564d5_row3_col6\" class=\"data row3 col6\" >nan</td>\n",
       "    </tr>\n",
       "    <tr>\n",
       "      <th id=\"T_564d5_level0_row4\" class=\"row_heading level0 row4\" >West</th>\n",
       "      <td id=\"T_564d5_row4_col0\" class=\"data row4 col0\" >nan</td>\n",
       "      <td id=\"T_564d5_row4_col1\" class=\"data row4 col1\" >320,000</td>\n",
       "      <td id=\"T_564d5_row4_col2\" class=\"data row4 col2\" >375,000</td>\n",
       "      <td id=\"T_564d5_row4_col3\" class=\"data row4 col3\" >500,000</td>\n",
       "      <td id=\"T_564d5_row4_col4\" class=\"data row4 col4\" >619,000</td>\n",
       "      <td id=\"T_564d5_row4_col5\" class=\"data row4 col5\" >750,000</td>\n",
       "      <td id=\"T_564d5_row4_col6\" class=\"data row4 col6\" >nan</td>\n",
       "    </tr>\n",
       "  </tbody>\n",
       "</table>\n"
      ],
      "text/plain": [
       "<pandas.io.formats.style.Styler at 0x7f9610410640>"
      ]
     },
     "execution_count": 7,
     "metadata": {},
     "output_type": "execute_result"
    }
   ],
   "source": [
    "region_prices = df.groupby(['region', 'rooms'])[['resale_price']].median(numeric_only=True).sort_values(by=['region','rooms'], ascending=False)\n",
    "region_prices = region_prices.unstack()\n",
    "region_prices.columns = ['1 room', '2 room', '3 room', '4 room', '5 room', 'Executive', 'Mansionette']\n",
    "region_prices.style.format(precision=0, thousands=',').highlight_max(color='red').highlight_min(color='green')"
   ]
  },
  {
   "cell_type": "code",
   "execution_count": 8,
   "metadata": {},
   "outputs": [
    {
     "data": {
      "text/html": [
       "<style type=\"text/css\">\n",
       "#T_618ff_row4_col0, #T_618ff_row25_col6 {\n",
       "  background-color: red;\n",
       "  background-color: green;\n",
       "}\n",
       "#T_618ff_row6_col5, #T_618ff_row7_col3, #T_618ff_row7_col4, #T_618ff_row16_col1, #T_618ff_row16_col2 {\n",
       "  background-color: red;\n",
       "}\n",
       "#T_618ff_row10_col1, #T_618ff_row10_col2, #T_618ff_row12_col3, #T_618ff_row19_col4, #T_618ff_row19_col5 {\n",
       "  background-color: green;\n",
       "}\n",
       "</style>\n",
       "<table id=\"T_618ff\">\n",
       "  <thead>\n",
       "    <tr>\n",
       "      <th class=\"blank level0\" >&nbsp;</th>\n",
       "      <th id=\"T_618ff_level0_col0\" class=\"col_heading level0 col0\" >1 room</th>\n",
       "      <th id=\"T_618ff_level0_col1\" class=\"col_heading level0 col1\" >2 room</th>\n",
       "      <th id=\"T_618ff_level0_col2\" class=\"col_heading level0 col2\" >3 room</th>\n",
       "      <th id=\"T_618ff_level0_col3\" class=\"col_heading level0 col3\" >4 room</th>\n",
       "      <th id=\"T_618ff_level0_col4\" class=\"col_heading level0 col4\" >5 room</th>\n",
       "      <th id=\"T_618ff_level0_col5\" class=\"col_heading level0 col5\" >Executive</th>\n",
       "      <th id=\"T_618ff_level0_col6\" class=\"col_heading level0 col6\" >Mansionette</th>\n",
       "    </tr>\n",
       "    <tr>\n",
       "      <th class=\"index_name level0\" >town</th>\n",
       "      <th class=\"blank col0\" >&nbsp;</th>\n",
       "      <th class=\"blank col1\" >&nbsp;</th>\n",
       "      <th class=\"blank col2\" >&nbsp;</th>\n",
       "      <th class=\"blank col3\" >&nbsp;</th>\n",
       "      <th class=\"blank col4\" >&nbsp;</th>\n",
       "      <th class=\"blank col5\" >&nbsp;</th>\n",
       "      <th class=\"blank col6\" >&nbsp;</th>\n",
       "    </tr>\n",
       "  </thead>\n",
       "  <tbody>\n",
       "    <tr>\n",
       "      <th id=\"T_618ff_level0_row0\" class=\"row_heading level0 row0\" >Ang Mo Kio</th>\n",
       "      <td id=\"T_618ff_row0_col0\" class=\"data row0 col0\" >nan</td>\n",
       "      <td id=\"T_618ff_row0_col1\" class=\"data row0 col1\" >289,900</td>\n",
       "      <td id=\"T_618ff_row0_col2\" class=\"data row0 col2\" >380,000</td>\n",
       "      <td id=\"T_618ff_row0_col3\" class=\"data row0 col3\" >560,000</td>\n",
       "      <td id=\"T_618ff_row0_col4\" class=\"data row0 col4\" >780,000</td>\n",
       "      <td id=\"T_618ff_row0_col5\" class=\"data row0 col5\" >933,000</td>\n",
       "      <td id=\"T_618ff_row0_col6\" class=\"data row0 col6\" >nan</td>\n",
       "    </tr>\n",
       "    <tr>\n",
       "      <th id=\"T_618ff_level0_row1\" class=\"row_heading level0 row1\" >Bedok</th>\n",
       "      <td id=\"T_618ff_row1_col0\" class=\"data row1 col0\" >nan</td>\n",
       "      <td id=\"T_618ff_row1_col1\" class=\"data row1 col1\" >285,000</td>\n",
       "      <td id=\"T_618ff_row1_col2\" class=\"data row1 col2\" >365,000</td>\n",
       "      <td id=\"T_618ff_row1_col3\" class=\"data row1 col3\" >490,000</td>\n",
       "      <td id=\"T_618ff_row1_col4\" class=\"data row1 col4\" >660,000</td>\n",
       "      <td id=\"T_618ff_row1_col5\" class=\"data row1 col5\" >870,000</td>\n",
       "      <td id=\"T_618ff_row1_col6\" class=\"data row1 col6\" >nan</td>\n",
       "    </tr>\n",
       "    <tr>\n",
       "      <th id=\"T_618ff_level0_row2\" class=\"row_heading level0 row2\" >Bishan</th>\n",
       "      <td id=\"T_618ff_row2_col0\" class=\"data row2 col0\" >nan</td>\n",
       "      <td id=\"T_618ff_row2_col1\" class=\"data row2 col1\" >nan</td>\n",
       "      <td id=\"T_618ff_row2_col2\" class=\"data row2 col2\" >460,000</td>\n",
       "      <td id=\"T_618ff_row2_col3\" class=\"data row2 col3\" >685,000</td>\n",
       "      <td id=\"T_618ff_row2_col4\" class=\"data row2 col4\" >900,000</td>\n",
       "      <td id=\"T_618ff_row2_col5\" class=\"data row2 col5\" >1,050,000</td>\n",
       "      <td id=\"T_618ff_row2_col6\" class=\"data row2 col6\" >nan</td>\n",
       "    </tr>\n",
       "    <tr>\n",
       "      <th id=\"T_618ff_level0_row3\" class=\"row_heading level0 row3\" >Bukit Batok</th>\n",
       "      <td id=\"T_618ff_row3_col0\" class=\"data row3 col0\" >nan</td>\n",
       "      <td id=\"T_618ff_row3_col1\" class=\"data row3 col1\" >339,000</td>\n",
       "      <td id=\"T_618ff_row3_col2\" class=\"data row3 col2\" >370,000</td>\n",
       "      <td id=\"T_618ff_row3_col3\" class=\"data row3 col3\" >590,000</td>\n",
       "      <td id=\"T_618ff_row3_col4\" class=\"data row3 col4\" >760,000</td>\n",
       "      <td id=\"T_618ff_row3_col5\" class=\"data row3 col5\" >820,000</td>\n",
       "      <td id=\"T_618ff_row3_col6\" class=\"data row3 col6\" >nan</td>\n",
       "    </tr>\n",
       "    <tr>\n",
       "      <th id=\"T_618ff_level0_row4\" class=\"row_heading level0 row4\" >Bukit Merah</th>\n",
       "      <td id=\"T_618ff_row4_col0\" class=\"data row4 col0\" >238,500</td>\n",
       "      <td id=\"T_618ff_row4_col1\" class=\"data row4 col1\" >270,000</td>\n",
       "      <td id=\"T_618ff_row4_col2\" class=\"data row4 col2\" >394,000</td>\n",
       "      <td id=\"T_618ff_row4_col3\" class=\"data row4 col3\" >815,000</td>\n",
       "      <td id=\"T_618ff_row4_col4\" class=\"data row4 col4\" >870,000</td>\n",
       "      <td id=\"T_618ff_row4_col5\" class=\"data row4 col5\" >nan</td>\n",
       "      <td id=\"T_618ff_row4_col6\" class=\"data row4 col6\" >nan</td>\n",
       "    </tr>\n",
       "    <tr>\n",
       "      <th id=\"T_618ff_level0_row5\" class=\"row_heading level0 row5\" >Bukit Panjang</th>\n",
       "      <td id=\"T_618ff_row5_col0\" class=\"data row5 col0\" >nan</td>\n",
       "      <td id=\"T_618ff_row5_col1\" class=\"data row5 col1\" >302,500</td>\n",
       "      <td id=\"T_618ff_row5_col2\" class=\"data row5 col2\" >380,500</td>\n",
       "      <td id=\"T_618ff_row5_col3\" class=\"data row5 col3\" >490,000</td>\n",
       "      <td id=\"T_618ff_row5_col4\" class=\"data row5 col4\" >620,000</td>\n",
       "      <td id=\"T_618ff_row5_col5\" class=\"data row5 col5\" >796,888</td>\n",
       "      <td id=\"T_618ff_row5_col6\" class=\"data row5 col6\" >nan</td>\n",
       "    </tr>\n",
       "    <tr>\n",
       "      <th id=\"T_618ff_level0_row6\" class=\"row_heading level0 row6\" >Bukit Timah</th>\n",
       "      <td id=\"T_618ff_row6_col0\" class=\"data row6 col0\" >nan</td>\n",
       "      <td id=\"T_618ff_row6_col1\" class=\"data row6 col1\" >nan</td>\n",
       "      <td id=\"T_618ff_row6_col2\" class=\"data row6 col2\" >465,000</td>\n",
       "      <td id=\"T_618ff_row6_col3\" class=\"data row6 col3\" >777,500</td>\n",
       "      <td id=\"T_618ff_row6_col4\" class=\"data row6 col4\" >985,000</td>\n",
       "      <td id=\"T_618ff_row6_col5\" class=\"data row6 col5\" >1,288,000</td>\n",
       "      <td id=\"T_618ff_row6_col6\" class=\"data row6 col6\" >nan</td>\n",
       "    </tr>\n",
       "    <tr>\n",
       "      <th id=\"T_618ff_level0_row7\" class=\"row_heading level0 row7\" >Central Area</th>\n",
       "      <td id=\"T_618ff_row7_col0\" class=\"data row7 col0\" >nan</td>\n",
       "      <td id=\"T_618ff_row7_col1\" class=\"data row7 col1\" >328,000</td>\n",
       "      <td id=\"T_618ff_row7_col2\" class=\"data row7 col2\" >447,400</td>\n",
       "      <td id=\"T_618ff_row7_col3\" class=\"data row7 col3\" >884,000</td>\n",
       "      <td id=\"T_618ff_row7_col4\" class=\"data row7 col4\" >1,340,000</td>\n",
       "      <td id=\"T_618ff_row7_col5\" class=\"data row7 col5\" >nan</td>\n",
       "      <td id=\"T_618ff_row7_col6\" class=\"data row7 col6\" >nan</td>\n",
       "    </tr>\n",
       "    <tr>\n",
       "      <th id=\"T_618ff_level0_row8\" class=\"row_heading level0 row8\" >Choa Chu Kang</th>\n",
       "      <td id=\"T_618ff_row8_col0\" class=\"data row8 col0\" >nan</td>\n",
       "      <td id=\"T_618ff_row8_col1\" class=\"data row8 col1\" >307,500</td>\n",
       "      <td id=\"T_618ff_row8_col2\" class=\"data row8 col2\" >411,500</td>\n",
       "      <td id=\"T_618ff_row8_col3\" class=\"data row8 col3\" >490,000</td>\n",
       "      <td id=\"T_618ff_row8_col4\" class=\"data row8 col4\" >582,000</td>\n",
       "      <td id=\"T_618ff_row8_col5\" class=\"data row8 col5\" >715,000</td>\n",
       "      <td id=\"T_618ff_row8_col6\" class=\"data row8 col6\" >nan</td>\n",
       "    </tr>\n",
       "    <tr>\n",
       "      <th id=\"T_618ff_level0_row9\" class=\"row_heading level0 row9\" >Clementi</th>\n",
       "      <td id=\"T_618ff_row9_col0\" class=\"data row9 col0\" >nan</td>\n",
       "      <td id=\"T_618ff_row9_col1\" class=\"data row9 col1\" >nan</td>\n",
       "      <td id=\"T_618ff_row9_col2\" class=\"data row9 col2\" >419,000</td>\n",
       "      <td id=\"T_618ff_row9_col3\" class=\"data row9 col3\" >620,000</td>\n",
       "      <td id=\"T_618ff_row9_col4\" class=\"data row9 col4\" >761,500</td>\n",
       "      <td id=\"T_618ff_row9_col5\" class=\"data row9 col5\" >955,000</td>\n",
       "      <td id=\"T_618ff_row9_col6\" class=\"data row9 col6\" >nan</td>\n",
       "    </tr>\n",
       "    <tr>\n",
       "      <th id=\"T_618ff_level0_row10\" class=\"row_heading level0 row10\" >Geylang</th>\n",
       "      <td id=\"T_618ff_row10_col0\" class=\"data row10 col0\" >nan</td>\n",
       "      <td id=\"T_618ff_row10_col1\" class=\"data row10 col1\" >256,000</td>\n",
       "      <td id=\"T_618ff_row10_col2\" class=\"data row10 col2\" >339,500</td>\n",
       "      <td id=\"T_618ff_row10_col3\" class=\"data row10 col3\" >555,000</td>\n",
       "      <td id=\"T_618ff_row10_col4\" class=\"data row10 col4\" >712,500</td>\n",
       "      <td id=\"T_618ff_row10_col5\" class=\"data row10 col5\" >928,000</td>\n",
       "      <td id=\"T_618ff_row10_col6\" class=\"data row10 col6\" >nan</td>\n",
       "    </tr>\n",
       "    <tr>\n",
       "      <th id=\"T_618ff_level0_row11\" class=\"row_heading level0 row11\" >Hougang</th>\n",
       "      <td id=\"T_618ff_row11_col0\" class=\"data row11 col0\" >nan</td>\n",
       "      <td id=\"T_618ff_row11_col1\" class=\"data row11 col1\" >330,000</td>\n",
       "      <td id=\"T_618ff_row11_col2\" class=\"data row11 col2\" >385,000</td>\n",
       "      <td id=\"T_618ff_row11_col3\" class=\"data row11 col3\" >519,000</td>\n",
       "      <td id=\"T_618ff_row11_col4\" class=\"data row11 col4\" >670,000</td>\n",
       "      <td id=\"T_618ff_row11_col5\" class=\"data row11 col5\" >850,000</td>\n",
       "      <td id=\"T_618ff_row11_col6\" class=\"data row11 col6\" >nan</td>\n",
       "    </tr>\n",
       "    <tr>\n",
       "      <th id=\"T_618ff_level0_row12\" class=\"row_heading level0 row12\" >Jurong East</th>\n",
       "      <td id=\"T_618ff_row12_col0\" class=\"data row12 col0\" >nan</td>\n",
       "      <td id=\"T_618ff_row12_col1\" class=\"data row12 col1\" >311,500</td>\n",
       "      <td id=\"T_618ff_row12_col2\" class=\"data row12 col2\" >363,000</td>\n",
       "      <td id=\"T_618ff_row12_col3\" class=\"data row12 col3\" >470,000</td>\n",
       "      <td id=\"T_618ff_row12_col4\" class=\"data row12 col4\" >658,000</td>\n",
       "      <td id=\"T_618ff_row12_col5\" class=\"data row12 col5\" >780,000</td>\n",
       "      <td id=\"T_618ff_row12_col6\" class=\"data row12 col6\" >nan</td>\n",
       "    </tr>\n",
       "    <tr>\n",
       "      <th id=\"T_618ff_level0_row13\" class=\"row_heading level0 row13\" >Jurong West</th>\n",
       "      <td id=\"T_618ff_row13_col0\" class=\"data row13 col0\" >nan</td>\n",
       "      <td id=\"T_618ff_row13_col1\" class=\"data row13 col1\" >296,000</td>\n",
       "      <td id=\"T_618ff_row13_col2\" class=\"data row13 col2\" >345,000</td>\n",
       "      <td id=\"T_618ff_row13_col3\" class=\"data row13 col3\" >475,000</td>\n",
       "      <td id=\"T_618ff_row13_col4\" class=\"data row13 col4\" >585,000</td>\n",
       "      <td id=\"T_618ff_row13_col5\" class=\"data row13 col5\" >692,500</td>\n",
       "      <td id=\"T_618ff_row13_col6\" class=\"data row13 col6\" >nan</td>\n",
       "    </tr>\n",
       "    <tr>\n",
       "      <th id=\"T_618ff_level0_row14\" class=\"row_heading level0 row14\" >Kallang/Whampoa</th>\n",
       "      <td id=\"T_618ff_row14_col0\" class=\"data row14 col0\" >nan</td>\n",
       "      <td id=\"T_618ff_row14_col1\" class=\"data row14 col1\" >283,000</td>\n",
       "      <td id=\"T_618ff_row14_col2\" class=\"data row14 col2\" >380,000</td>\n",
       "      <td id=\"T_618ff_row14_col3\" class=\"data row14 col3\" >732,500</td>\n",
       "      <td id=\"T_618ff_row14_col4\" class=\"data row14 col4\" >805,000</td>\n",
       "      <td id=\"T_618ff_row14_col5\" class=\"data row14 col5\" >962,800</td>\n",
       "      <td id=\"T_618ff_row14_col6\" class=\"data row14 col6\" >nan</td>\n",
       "    </tr>\n",
       "    <tr>\n",
       "      <th id=\"T_618ff_level0_row15\" class=\"row_heading level0 row15\" >Marine Parade</th>\n",
       "      <td id=\"T_618ff_row15_col0\" class=\"data row15 col0\" >nan</td>\n",
       "      <td id=\"T_618ff_row15_col1\" class=\"data row15 col1\" >nan</td>\n",
       "      <td id=\"T_618ff_row15_col2\" class=\"data row15 col2\" >436,888</td>\n",
       "      <td id=\"T_618ff_row15_col3\" class=\"data row15 col3\" >577,500</td>\n",
       "      <td id=\"T_618ff_row15_col4\" class=\"data row15 col4\" >841,500</td>\n",
       "      <td id=\"T_618ff_row15_col5\" class=\"data row15 col5\" >nan</td>\n",
       "      <td id=\"T_618ff_row15_col6\" class=\"data row15 col6\" >nan</td>\n",
       "    </tr>\n",
       "    <tr>\n",
       "      <th id=\"T_618ff_level0_row16\" class=\"row_heading level0 row16\" >Pasir Ris</th>\n",
       "      <td id=\"T_618ff_row16_col0\" class=\"data row16 col0\" >nan</td>\n",
       "      <td id=\"T_618ff_row16_col1\" class=\"data row16 col1\" >360,000</td>\n",
       "      <td id=\"T_618ff_row16_col2\" class=\"data row16 col2\" >520,000</td>\n",
       "      <td id=\"T_618ff_row16_col3\" class=\"data row16 col3\" >535,000</td>\n",
       "      <td id=\"T_618ff_row16_col4\" class=\"data row16 col4\" >645,000</td>\n",
       "      <td id=\"T_618ff_row16_col5\" class=\"data row16 col5\" >810,000</td>\n",
       "      <td id=\"T_618ff_row16_col6\" class=\"data row16 col6\" >nan</td>\n",
       "    </tr>\n",
       "    <tr>\n",
       "      <th id=\"T_618ff_level0_row17\" class=\"row_heading level0 row17\" >Punggol</th>\n",
       "      <td id=\"T_618ff_row17_col0\" class=\"data row17 col0\" >nan</td>\n",
       "      <td id=\"T_618ff_row17_col1\" class=\"data row17 col1\" >335,000</td>\n",
       "      <td id=\"T_618ff_row17_col2\" class=\"data row17 col2\" >450,000</td>\n",
       "      <td id=\"T_618ff_row17_col3\" class=\"data row17 col3\" >582,000</td>\n",
       "      <td id=\"T_618ff_row17_col4\" class=\"data row17 col4\" >668,000</td>\n",
       "      <td id=\"T_618ff_row17_col5\" class=\"data row17 col5\" >698,000</td>\n",
       "      <td id=\"T_618ff_row17_col6\" class=\"data row17 col6\" >nan</td>\n",
       "    </tr>\n",
       "    <tr>\n",
       "      <th id=\"T_618ff_level0_row18\" class=\"row_heading level0 row18\" >Queenstown</th>\n",
       "      <td id=\"T_618ff_row18_col0\" class=\"data row18 col0\" >nan</td>\n",
       "      <td id=\"T_618ff_row18_col1\" class=\"data row18 col1\" >261,944</td>\n",
       "      <td id=\"T_618ff_row18_col2\" class=\"data row18 col2\" >403,888</td>\n",
       "      <td id=\"T_618ff_row18_col3\" class=\"data row18 col3\" >860,000</td>\n",
       "      <td id=\"T_618ff_row18_col4\" class=\"data row18 col4\" >976,500</td>\n",
       "      <td id=\"T_618ff_row18_col5\" class=\"data row18 col5\" >1,190,000</td>\n",
       "      <td id=\"T_618ff_row18_col6\" class=\"data row18 col6\" >nan</td>\n",
       "    </tr>\n",
       "    <tr>\n",
       "      <th id=\"T_618ff_level0_row19\" class=\"row_heading level0 row19\" >Sembawang</th>\n",
       "      <td id=\"T_618ff_row19_col0\" class=\"data row19 col0\" >nan</td>\n",
       "      <td id=\"T_618ff_row19_col1\" class=\"data row19 col1\" >325,000</td>\n",
       "      <td id=\"T_618ff_row19_col2\" class=\"data row19 col2\" >438,500</td>\n",
       "      <td id=\"T_618ff_row19_col3\" class=\"data row19 col3\" >535,000</td>\n",
       "      <td id=\"T_618ff_row19_col4\" class=\"data row19 col4\" >576,500</td>\n",
       "      <td id=\"T_618ff_row19_col5\" class=\"data row19 col5\" >650,000</td>\n",
       "      <td id=\"T_618ff_row19_col6\" class=\"data row19 col6\" >nan</td>\n",
       "    </tr>\n",
       "    <tr>\n",
       "      <th id=\"T_618ff_level0_row20\" class=\"row_heading level0 row20\" >Sengkang</th>\n",
       "      <td id=\"T_618ff_row20_col0\" class=\"data row20 col0\" >nan</td>\n",
       "      <td id=\"T_618ff_row20_col1\" class=\"data row20 col1\" >335,944</td>\n",
       "      <td id=\"T_618ff_row20_col2\" class=\"data row20 col2\" >443,000</td>\n",
       "      <td id=\"T_618ff_row20_col3\" class=\"data row20 col3\" >560,000</td>\n",
       "      <td id=\"T_618ff_row20_col4\" class=\"data row20 col4\" >608,000</td>\n",
       "      <td id=\"T_618ff_row20_col5\" class=\"data row20 col5\" >733,888</td>\n",
       "      <td id=\"T_618ff_row20_col6\" class=\"data row20 col6\" >nan</td>\n",
       "    </tr>\n",
       "    <tr>\n",
       "      <th id=\"T_618ff_level0_row21\" class=\"row_heading level0 row21\" >Serangoon</th>\n",
       "      <td id=\"T_618ff_row21_col0\" class=\"data row21 col0\" >nan</td>\n",
       "      <td id=\"T_618ff_row21_col1\" class=\"data row21 col1\" >nan</td>\n",
       "      <td id=\"T_618ff_row21_col2\" class=\"data row21 col2\" >390,000</td>\n",
       "      <td id=\"T_618ff_row21_col3\" class=\"data row21 col3\" >585,000</td>\n",
       "      <td id=\"T_618ff_row21_col4\" class=\"data row21 col4\" >660,000</td>\n",
       "      <td id=\"T_618ff_row21_col5\" class=\"data row21 col5\" >900,000</td>\n",
       "      <td id=\"T_618ff_row21_col6\" class=\"data row21 col6\" >nan</td>\n",
       "    </tr>\n",
       "    <tr>\n",
       "      <th id=\"T_618ff_level0_row22\" class=\"row_heading level0 row22\" >Tampines</th>\n",
       "      <td id=\"T_618ff_row22_col0\" class=\"data row22 col0\" >nan</td>\n",
       "      <td id=\"T_618ff_row22_col1\" class=\"data row22 col1\" >337,500</td>\n",
       "      <td id=\"T_618ff_row22_col2\" class=\"data row22 col2\" >416,000</td>\n",
       "      <td id=\"T_618ff_row22_col3\" class=\"data row22 col3\" >560,000</td>\n",
       "      <td id=\"T_618ff_row22_col4\" class=\"data row22 col4\" >670,000</td>\n",
       "      <td id=\"T_618ff_row22_col5\" class=\"data row22 col5\" >859,444</td>\n",
       "      <td id=\"T_618ff_row22_col6\" class=\"data row22 col6\" >nan</td>\n",
       "    </tr>\n",
       "    <tr>\n",
       "      <th id=\"T_618ff_level0_row23\" class=\"row_heading level0 row23\" >Toa Payoh</th>\n",
       "      <td id=\"T_618ff_row23_col0\" class=\"data row23 col0\" >nan</td>\n",
       "      <td id=\"T_618ff_row23_col1\" class=\"data row23 col1\" >258,444</td>\n",
       "      <td id=\"T_618ff_row23_col2\" class=\"data row23 col2\" >353,500</td>\n",
       "      <td id=\"T_618ff_row23_col3\" class=\"data row23 col3\" >724,000</td>\n",
       "      <td id=\"T_618ff_row23_col4\" class=\"data row23 col4\" >915,000</td>\n",
       "      <td id=\"T_618ff_row23_col5\" class=\"data row23 col5\" >1,018,000</td>\n",
       "      <td id=\"T_618ff_row23_col6\" class=\"data row23 col6\" >nan</td>\n",
       "    </tr>\n",
       "    <tr>\n",
       "      <th id=\"T_618ff_level0_row24\" class=\"row_heading level0 row24\" >Woodlands</th>\n",
       "      <td id=\"T_618ff_row24_col0\" class=\"data row24 col0\" >nan</td>\n",
       "      <td id=\"T_618ff_row24_col1\" class=\"data row24 col1\" >320,000</td>\n",
       "      <td id=\"T_618ff_row24_col2\" class=\"data row24 col2\" >390,000</td>\n",
       "      <td id=\"T_618ff_row24_col3\" class=\"data row24 col3\" >484,000</td>\n",
       "      <td id=\"T_618ff_row24_col4\" class=\"data row24 col4\" >585,000</td>\n",
       "      <td id=\"T_618ff_row24_col5\" class=\"data row24 col5\" >772,500</td>\n",
       "      <td id=\"T_618ff_row24_col6\" class=\"data row24 col6\" >nan</td>\n",
       "    </tr>\n",
       "    <tr>\n",
       "      <th id=\"T_618ff_level0_row25\" class=\"row_heading level0 row25\" >Yishun</th>\n",
       "      <td id=\"T_618ff_row25_col0\" class=\"data row25 col0\" >nan</td>\n",
       "      <td id=\"T_618ff_row25_col1\" class=\"data row25 col1\" >315,000</td>\n",
       "      <td id=\"T_618ff_row25_col2\" class=\"data row25 col2\" >378,000</td>\n",
       "      <td id=\"T_618ff_row25_col3\" class=\"data row25 col3\" >480,000</td>\n",
       "      <td id=\"T_618ff_row25_col4\" class=\"data row25 col4\" >636,500</td>\n",
       "      <td id=\"T_618ff_row25_col5\" class=\"data row25 col5\" >800,000</td>\n",
       "      <td id=\"T_618ff_row25_col6\" class=\"data row25 col6\" >1,080,000</td>\n",
       "    </tr>\n",
       "  </tbody>\n",
       "</table>\n"
      ],
      "text/plain": [
       "<pandas.io.formats.style.Styler at 0x7f960057d030>"
      ]
     },
     "execution_count": 8,
     "metadata": {},
     "output_type": "execute_result"
    }
   ],
   "source": [
    "town_prices = df.groupby(['town', 'rooms'])[['resale_price']].median(numeric_only=True).sort_values(by=['town','rooms'], ascending=False)\n",
    "town_prices = town_prices.unstack()\n",
    "town_prices.columns = ['1 room', '2 room', '3 room', '4 room', '5 room', 'Executive', 'Mansionette']\n",
    "town_prices.style.format(precision=0, thousands=',').highlight_max(color='red').highlight_min(color='green')"
   ]
  },
  {
   "attachments": {},
   "cell_type": "markdown",
   "metadata": {},
   "source": [
    "#### Change in resale prices within year 2023"
   ]
  },
  {
   "cell_type": "code",
   "execution_count": 9,
   "metadata": {},
   "outputs": [
    {
     "data": {
      "image/png": "[encoded data removed]",
      "text/plain": [
       "<Figure size 640x480 with 1 Axes>"
      ]
     },
     "metadata": {},
     "output_type": "display_data"
    }
   ],
   "source": [
    "ma_df = df.groupby(['timeseries_month', 'region'])['resale_price'].mean()\n",
    "ma_df = ma_df.unstack()\n",
    "sns.lineplot(ma_df)\n",
    "plt.title('Change in Resale Prices in different regions')\n",
    "plt.ylabel('Resale price')\n",
    "plt.legend(loc='lower right')\n",
    "plt.show()"
   ]
  },
  {
   "attachments": {},
   "cell_type": "markdown",
   "metadata": {},
   "source": [
    "### 1.2 Preprocessing (mean and label encoding)\n",
    "* I will perform mean encoding (resale_price) onto the town and rooms.\n",
    "* Take note that mean encoding may sometimes result in overfitting."
   ]
  },
  {
   "cell_type": "code",
   "execution_count": 10,
   "metadata": {},
   "outputs": [],
   "source": [
    "# Label encoding for town\n",
    "encoder = LabelEncoder()\n",
    "town_encoded = pd.Series(encoder.fit_transform(df['town']), name='town_encoded', index=df.index)\n",
    "\n",
    "# Label encoding for region\n",
    "region_encoded = pd.Series(encoder.fit_transform(df['region']), name='region_encoded', index=df.index)"
   ]
  },
  {
   "cell_type": "code",
   "execution_count": 11,
   "metadata": {},
   "outputs": [
    {
     "data": {
      "text/html": [
       "<div>\n",
       "<style scoped>\n",
       "    .dataframe tbody tr th:only-of-type {\n",
       "        vertical-align: middle;\n",
       "    }\n",
       "\n",
       "    .dataframe tbody tr th {\n",
       "        vertical-align: top;\n",
       "    }\n",
       "\n",
       "    .dataframe thead th {\n",
       "        text-align: right;\n",
       "    }\n",
       "</style>\n",
       "<table border=\"1\" class=\"dataframe\">\n",
       "  <thead>\n",
       "    <tr style=\"text-align: right;\">\n",
       "      <th></th>\n",
       "      <th>resale_price</th>\n",
       "      <th>floor_area_sqm</th>\n",
       "      <th>remaining_lease</th>\n",
       "      <th>rooms</th>\n",
       "      <th>avg_storey</th>\n",
       "      <th>mean_price_by_town_rooms</th>\n",
       "      <th>town_encoded</th>\n",
       "      <th>region_encoded</th>\n",
       "    </tr>\n",
       "    <tr>\n",
       "      <th>_id</th>\n",
       "      <th></th>\n",
       "      <th></th>\n",
       "      <th></th>\n",
       "      <th></th>\n",
       "      <th></th>\n",
       "      <th></th>\n",
       "      <th></th>\n",
       "      <th></th>\n",
       "    </tr>\n",
       "  </thead>\n",
       "  <tbody>\n",
       "    <tr>\n",
       "      <th>150072</th>\n",
       "      <td>298000.0</td>\n",
       "      <td>44.0</td>\n",
       "      <td>53.750000</td>\n",
       "      <td>2.0</td>\n",
       "      <td>8.0</td>\n",
       "      <td>293168.800000</td>\n",
       "      <td>0</td>\n",
       "      <td>3</td>\n",
       "    </tr>\n",
       "    <tr>\n",
       "      <th>152257</th>\n",
       "      <td>865000.0</td>\n",
       "      <td>142.0</td>\n",
       "      <td>63.833333</td>\n",
       "      <td>5.5</td>\n",
       "      <td>11.0</td>\n",
       "      <td>838167.676364</td>\n",
       "      <td>25</td>\n",
       "      <td>2</td>\n",
       "    </tr>\n",
       "    <tr>\n",
       "      <th>152256</th>\n",
       "      <td>780000.0</td>\n",
       "      <td>142.0</td>\n",
       "      <td>62.166667</td>\n",
       "      <td>5.5</td>\n",
       "      <td>11.0</td>\n",
       "      <td>838167.676364</td>\n",
       "      <td>25</td>\n",
       "      <td>2</td>\n",
       "    </tr>\n",
       "    <tr>\n",
       "      <th>152255</th>\n",
       "      <td>935000.0</td>\n",
       "      <td>164.0</td>\n",
       "      <td>68.166667</td>\n",
       "      <td>5.5</td>\n",
       "      <td>5.0</td>\n",
       "      <td>838167.676364</td>\n",
       "      <td>25</td>\n",
       "      <td>2</td>\n",
       "    </tr>\n",
       "    <tr>\n",
       "      <th>152254</th>\n",
       "      <td>892000.0</td>\n",
       "      <td>169.0</td>\n",
       "      <td>68.333333</td>\n",
       "      <td>5.5</td>\n",
       "      <td>2.0</td>\n",
       "      <td>838167.676364</td>\n",
       "      <td>25</td>\n",
       "      <td>2</td>\n",
       "    </tr>\n",
       "  </tbody>\n",
       "</table>\n",
       "</div>"
      ],
      "text/plain": [
       "        resale_price  floor_area_sqm  remaining_lease  rooms  avg_storey   \n",
       "_id                                                                        \n",
       "150072      298000.0            44.0        53.750000    2.0         8.0  \\\n",
       "152257      865000.0           142.0        63.833333    5.5        11.0   \n",
       "152256      780000.0           142.0        62.166667    5.5        11.0   \n",
       "152255      935000.0           164.0        68.166667    5.5         5.0   \n",
       "152254      892000.0           169.0        68.333333    5.5         2.0   \n",
       "\n",
       "        mean_price_by_town_rooms  town_encoded  region_encoded  \n",
       "_id                                                             \n",
       "150072             293168.800000             0               3  \n",
       "152257             838167.676364            25               2  \n",
       "152256             838167.676364            25               2  \n",
       "152255             838167.676364            25               2  \n",
       "152254             838167.676364            25               2  "
      ]
     },
     "execution_count": 11,
     "metadata": {},
     "output_type": "execute_result"
    }
   ],
   "source": [
    "# Mean encoding through mapping groupby dictionary onto pd.Series\n",
    "def columns_to_tuple(df):\n",
    "    '''\n",
    "    Function to combined town and rooms as a tuple for dictionary mapping\n",
    "    '''\n",
    "    return (df['town'],  df['rooms'])\n",
    "\n",
    "# Get the dictionary of the town and rooms for mean encoding\n",
    "town_mean_dict = df.groupby(['town', 'rooms'])['resale_price'].mean(numeric_only=True).to_dict()\n",
    "town_tuple = df.apply(columns_to_tuple, axis=1)\n",
    "town_tuple.name = 'mean_price_by_town_rooms'\n",
    "\n",
    "# Encode through mapping\n",
    "town_mean_price = town_tuple.map(town_mean_dict)\n",
    "train_df = pd.concat([numerical_columns, town_mean_price, town_encoded, region_encoded], axis =1)\n",
    "train_df.head()\n"
   ]
  },
  {
   "attachments": {},
   "cell_type": "markdown",
   "metadata": {},
   "source": [
    "### 1.3 Feature selection"
   ]
  },
  {
   "cell_type": "code",
   "execution_count": 12,
   "metadata": {},
   "outputs": [],
   "source": [
    "X_unscaled = train_df.iloc[:,1:]\n",
    "y = train_df.iloc[:,0]\n",
    "scaler = MinMaxScaler()\n",
    "X = scaler.fit_transform(X_unscaled)\n",
    "X_train, X_test, y_train, y_test = train_test_split(X, y, test_size=0.2, random_state=42)"
   ]
  },
  {
   "attachments": {},
   "cell_type": "markdown",
   "metadata": {},
   "source": [
    "SelectKBest using Mutual Information"
   ]
  },
  {
   "cell_type": "code",
   "execution_count": 13,
   "metadata": {},
   "outputs": [
    {
     "data": {
      "text/html": [
       "<div>\n",
       "<style scoped>\n",
       "    .dataframe tbody tr th:only-of-type {\n",
       "        vertical-align: middle;\n",
       "    }\n",
       "\n",
       "    .dataframe tbody tr th {\n",
       "        vertical-align: top;\n",
       "    }\n",
       "\n",
       "    .dataframe thead th {\n",
       "        text-align: right;\n",
       "    }\n",
       "</style>\n",
       "<table border=\"1\" class=\"dataframe\">\n",
       "  <thead>\n",
       "    <tr style=\"text-align: right;\">\n",
       "      <th></th>\n",
       "      <th>Mutual Info Score</th>\n",
       "    </tr>\n",
       "  </thead>\n",
       "  <tbody>\n",
       "    <tr>\n",
       "      <th>floor_area_sqm</th>\n",
       "      <td>0.728665</td>\n",
       "    </tr>\n",
       "    <tr>\n",
       "      <th>remaining_lease</th>\n",
       "      <td>0.333599</td>\n",
       "    </tr>\n",
       "    <tr>\n",
       "      <th>rooms</th>\n",
       "      <td>0.525595</td>\n",
       "    </tr>\n",
       "    <tr>\n",
       "      <th>avg_storey</th>\n",
       "      <td>0.080430</td>\n",
       "    </tr>\n",
       "    <tr>\n",
       "      <th>mean_price_by_town_rooms</th>\n",
       "      <td>0.887720</td>\n",
       "    </tr>\n",
       "    <tr>\n",
       "      <th>town_encoded</th>\n",
       "      <td>0.219721</td>\n",
       "    </tr>\n",
       "    <tr>\n",
       "      <th>region_encoded</th>\n",
       "      <td>0.089023</td>\n",
       "    </tr>\n",
       "  </tbody>\n",
       "</table>\n",
       "</div>"
      ],
      "text/plain": [
       "                          Mutual Info Score\n",
       "floor_area_sqm                     0.728665\n",
       "remaining_lease                    0.333599\n",
       "rooms                              0.525595\n",
       "avg_storey                         0.080430\n",
       "mean_price_by_town_rooms           0.887720\n",
       "town_encoded                       0.219721\n",
       "region_encoded                     0.089023"
      ]
     },
     "execution_count": 13,
     "metadata": {},
     "output_type": "execute_result"
    }
   ],
   "source": [
    "X_df = pd.DataFrame(X, columns=X_unscaled.columns)\n",
    "kbest = SelectKBest(score_func=mutual_info_regression, k='all')\n",
    "kbest.fit(X_df, y)\n",
    "pd.DataFrame(kbest.scores_, index=kbest.get_feature_names_out(kbest.feature_names_in_), columns=['Mutual Info Score'])"
   ]
  },
  {
   "attachments": {},
   "cell_type": "markdown",
   "metadata": {},
   "source": [
    "Lasso regularisation to determine less important features"
   ]
  },
  {
   "cell_type": "code",
   "execution_count": 14,
   "metadata": {},
   "outputs": [
    {
     "name": "stdout",
     "output_type": "stream",
     "text": [
      "Selected Alpha from CV: 20.031\n",
      "Bias: \t\t203818.986\n"
     ]
    },
    {
     "data": {
      "text/html": [
       "<div>\n",
       "<style scoped>\n",
       "    .dataframe tbody tr th:only-of-type {\n",
       "        vertical-align: middle;\n",
       "    }\n",
       "\n",
       "    .dataframe tbody tr th {\n",
       "        vertical-align: top;\n",
       "    }\n",
       "\n",
       "    .dataframe thead th {\n",
       "        text-align: right;\n",
       "    }\n",
       "</style>\n",
       "<table border=\"1\" class=\"dataframe\">\n",
       "  <thead>\n",
       "    <tr style=\"text-align: right;\">\n",
       "      <th></th>\n",
       "      <th>Features</th>\n",
       "    </tr>\n",
       "  </thead>\n",
       "  <tbody>\n",
       "    <tr>\n",
       "      <th>floor_area_sqm</th>\n",
       "      <td>594485.359254</td>\n",
       "    </tr>\n",
       "    <tr>\n",
       "      <th>remaining_lease</th>\n",
       "      <td>191362.693812</td>\n",
       "    </tr>\n",
       "    <tr>\n",
       "      <th>rooms</th>\n",
       "      <td>-298265.152154</td>\n",
       "    </tr>\n",
       "    <tr>\n",
       "      <th>avg_storey</th>\n",
       "      <td>241499.277709</td>\n",
       "    </tr>\n",
       "    <tr>\n",
       "      <th>mean_price_by_town_rooms</th>\n",
       "      <td>722403.134937</td>\n",
       "    </tr>\n",
       "    <tr>\n",
       "      <th>town_encoded</th>\n",
       "      <td>-53654.114240</td>\n",
       "    </tr>\n",
       "    <tr>\n",
       "      <th>region_encoded</th>\n",
       "      <td>-76217.766096</td>\n",
       "    </tr>\n",
       "  </tbody>\n",
       "</table>\n",
       "</div>"
      ],
      "text/plain": [
       "                               Features\n",
       "floor_area_sqm            594485.359254\n",
       "remaining_lease           191362.693812\n",
       "rooms                    -298265.152154\n",
       "avg_storey                241499.277709\n",
       "mean_price_by_town_rooms  722403.134937\n",
       "town_encoded              -53654.114240\n",
       "region_encoded            -76217.766096"
      ]
     },
     "metadata": {},
     "output_type": "display_data"
    }
   ],
   "source": [
    "# LassoCV here uses crossvalidation to determine the optimum alpha (penalty value)\n",
    "lr_reg1 = LassoCV(random_state=42)\n",
    "lr_reg1.fit(X_train, y_train)\n",
    "r2 = r2_score(y_test, lr_reg1.predict(X_test))\n",
    "print(f'Selected Alpha from CV: {np.round(lr_reg1.alpha_,3)}')\n",
    "print(f'Bias: \\t\\t{np.round(lr_reg1.intercept_,3)}')\n",
    "display(pd.DataFrame(lr_reg1.coef_, index=X_unscaled.columns, columns=['Features']))"
   ]
  },
  {
   "attachments": {},
   "cell_type": "markdown",
   "metadata": {},
   "source": [
    "#### Final selection of features\n",
    "\n",
    "Based on all the investigation done so far, the following features will be excluded:\n",
    "* rooms\n",
    "* dist_to_station"
   ]
  },
  {
   "cell_type": "code",
   "execution_count": 15,
   "metadata": {},
   "outputs": [],
   "source": [
    "X_unscaled = train_df[['floor_area_sqm', 'remaining_lease', 'avg_storey', 'mean_price_by_town_rooms']] #, 'min_pt_time'\n",
    "y = train_df.iloc[:,0]\n",
    "scaler = MinMaxScaler()\n",
    "X = scaler.fit_transform(X_unscaled)\n",
    "X_train, X_test, y_train, y_test = train_test_split(X, y, test_size=0.2, random_state=42)"
   ]
  },
  {
   "attachments": {},
   "cell_type": "markdown",
   "metadata": {},
   "source": [
    "### 1.4 Model Selection\n",
    "We will compare the following models in general, before hyperparameter tuning\n",
    "* SGD Regressor\n",
    "* Decision Tree Regressor\n",
    "* Random Forest Regressor\n",
    "* Gradient Boosting Regressor"
   ]
  },
  {
   "cell_type": "code",
   "execution_count": 16,
   "metadata": {},
   "outputs": [
    {
     "name": "stdout",
     "output_type": "stream",
     "text": [
      "R2 score for SGD Regressor: 0.842\n",
      "R2 score for Tree Regressor: 0.901\n",
      "R2 score for Random Forest Regressor: 0.94\n",
      "R2 score for Gradient Boosting Regressor: 0.902\n"
     ]
    }
   ],
   "source": [
    "models = {'SGD Regressor' : SGDRegressor(random_state=42),\n",
    "          'Tree Regressor' : DecisionTreeRegressor(random_state=42),\n",
    "          'Random Forest Regressor' : RandomForestRegressor(random_state=42), \n",
    "          'Gradient Boosting Regressor' : GradientBoostingRegressor(random_state=42)}\n",
    "\n",
    "for name, model in models.items():\n",
    "    model.fit(X_train, y_train)\n",
    "    r2 = r2_score(y_test, model.predict(X_test))\n",
    "    print(f'R2 score for {name}: {np.round(r2,3)}')"
   ]
  },
  {
   "cell_type": "code",
   "execution_count": 17,
   "metadata": {},
   "outputs": [
    {
     "name": "stdout",
     "output_type": "stream",
     "text": [
      "Feature Importances\n"
     ]
    },
    {
     "data": {
      "text/html": [
       "<div>\n",
       "<style scoped>\n",
       "    .dataframe tbody tr th:only-of-type {\n",
       "        vertical-align: middle;\n",
       "    }\n",
       "\n",
       "    .dataframe tbody tr th {\n",
       "        vertical-align: top;\n",
       "    }\n",
       "\n",
       "    .dataframe thead th {\n",
       "        text-align: right;\n",
       "    }\n",
       "</style>\n",
       "<table border=\"1\" class=\"dataframe\">\n",
       "  <thead>\n",
       "    <tr style=\"text-align: right;\">\n",
       "      <th></th>\n",
       "      <th>Tree Regressor</th>\n",
       "      <th>Random Forest Regressor</th>\n",
       "      <th>Gradient Boosting Regressor</th>\n",
       "    </tr>\n",
       "  </thead>\n",
       "  <tbody>\n",
       "    <tr>\n",
       "      <th>floor_area_sqm</th>\n",
       "      <td>0.192020</td>\n",
       "      <td>0.182454</td>\n",
       "      <td>0.110383</td>\n",
       "    </tr>\n",
       "    <tr>\n",
       "      <th>remaining_lease</th>\n",
       "      <td>0.148622</td>\n",
       "      <td>0.139326</td>\n",
       "      <td>0.131665</td>\n",
       "    </tr>\n",
       "    <tr>\n",
       "      <th>avg_storey</th>\n",
       "      <td>0.043690</td>\n",
       "      <td>0.049061</td>\n",
       "      <td>0.049945</td>\n",
       "    </tr>\n",
       "    <tr>\n",
       "      <th>mean_price_by_town_rooms</th>\n",
       "      <td>0.615668</td>\n",
       "      <td>0.629158</td>\n",
       "      <td>0.708007</td>\n",
       "    </tr>\n",
       "  </tbody>\n",
       "</table>\n",
       "</div>"
      ],
      "text/plain": [
       "                          Tree Regressor  Random Forest Regressor   \n",
       "floor_area_sqm                  0.192020                 0.182454  \\\n",
       "remaining_lease                 0.148622                 0.139326   \n",
       "avg_storey                      0.043690                 0.049061   \n",
       "mean_price_by_town_rooms        0.615668                 0.629158   \n",
       "\n",
       "                          Gradient Boosting Regressor  \n",
       "floor_area_sqm                               0.110383  \n",
       "remaining_lease                              0.131665  \n",
       "avg_storey                                   0.049945  \n",
       "mean_price_by_town_rooms                     0.708007  "
      ]
     },
     "metadata": {},
     "output_type": "display_data"
    }
   ],
   "source": [
    "feature_importances = {}\n",
    "for name, model in models.items():\n",
    "    if name == 'SGD Regressor':\n",
    "        continue\n",
    "    feature_importances[name]= model.feature_importances_\n",
    "\n",
    "print('Feature Importances')\n",
    "display(pd.DataFrame(feature_importances, index=X_unscaled.columns))"
   ]
  },
  {
   "attachments": {},
   "cell_type": "markdown",
   "metadata": {},
   "source": [
    "The ensemble models (Random Forest and Gradient Boosting) tend to perform better. \n",
    "I will narrow down to tune these two models for now."
   ]
  },
  {
   "attachments": {},
   "cell_type": "markdown",
   "metadata": {},
   "source": [
    "### 1.5 Hyperparameter tuning\n",
    "Randomized Search Cross-Validation to tune the hyperpameters for the top 2 models"
   ]
  },
  {
   "attachments": {},
   "cell_type": "markdown",
   "metadata": {},
   "source": [
    "#### Random Forest Regressor"
   ]
  },
  {
   "cell_type": "code",
   "execution_count": 18,
   "metadata": {},
   "outputs": [
    {
     "name": "stdout",
     "output_type": "stream",
     "text": [
      "Fitting 5 folds for each of 15 candidates, totalling 75 fits\n",
      "Best Parameters {'n_estimators': 100, 'max_depth': None}\n",
      "Best r2score 0.934\n"
     ]
    }
   ],
   "source": [
    "param_distributions = {'max_depth' : [None, 3,5,7,9],\n",
    "                       'n_estimators' : [50,100,150]\n",
    "                       }\n",
    "\n",
    "random_cv = RandomizedSearchCV(estimator=RandomForestRegressor(random_state=42),\n",
    "                               scoring= 'r2', \n",
    "                               param_distributions= param_distributions, \n",
    "                               n_iter= 15,\n",
    "                               cv= 5, \n",
    "                               verbose= 1,\n",
    "                               n_jobs=2)\n",
    "\n",
    "random_cv.fit(X, y)\n",
    "print('Best Parameters', random_cv.best_params_)\n",
    "print('Best r2score', np.round(random_cv.best_score_,3))\n",
    "best_rfr = random_cv.best_estimator_\n"
   ]
  },
  {
   "attachments": {},
   "cell_type": "markdown",
   "metadata": {},
   "source": [
    "#### Gradient Boosting Regressor"
   ]
  },
  {
   "cell_type": "code",
   "execution_count": 19,
   "metadata": {},
   "outputs": [
    {
     "name": "stdout",
     "output_type": "stream",
     "text": [
      "Fitting 5 folds for each of 15 candidates, totalling 75 fits\n",
      "Best Parameters {'n_estimators': 150, 'max_depth': 7, 'learning_rate': 0.1}\n",
      "Best r2score 0.936\n"
     ]
    }
   ],
   "source": [
    "param_distributions = {'max_depth' : [None, 3,5,7,9],\n",
    "                       'n_estimators' : [50,100,150],\n",
    "                       'learning_rate' : [0.01,0.1,1]\n",
    "                       }\n",
    "\n",
    "random_cv = RandomizedSearchCV(estimator=GradientBoostingRegressor(random_state=42),\n",
    "                               scoring= 'r2', \n",
    "                               param_distributions= param_distributions, \n",
    "                               n_iter= 15,\n",
    "                               cv= 5, \n",
    "                               verbose= 1,\n",
    "                               n_jobs=2)\n",
    "\n",
    "random_cv.fit(X, y)\n",
    "print('Best Parameters', random_cv.best_params_)\n",
    "print('Best r2score', np.round(random_cv.best_score_,3))\n",
    "best_gbc = random_cv.best_estimator_\n"
   ]
  },
  {
   "attachments": {},
   "cell_type": "markdown",
   "metadata": {},
   "source": [
    "## Test on subsequent month's data"
   ]
  },
  {
   "cell_type": "code",
   "execution_count": 25,
   "metadata": {},
   "outputs": [
    {
     "data": {
      "text/html": [
       "<div>\n",
       "<style scoped>\n",
       "    .dataframe tbody tr th:only-of-type {\n",
       "        vertical-align: middle;\n",
       "    }\n",
       "\n",
       "    .dataframe tbody tr th {\n",
       "        vertical-align: top;\n",
       "    }\n",
       "\n",
       "    .dataframe thead th {\n",
       "        text-align: right;\n",
       "    }\n",
       "</style>\n",
       "<table border=\"1\" class=\"dataframe\">\n",
       "  <thead>\n",
       "    <tr style=\"text-align: right;\">\n",
       "      <th></th>\n",
       "      <th>resale_price</th>\n",
       "      <th>floor_area_sqm</th>\n",
       "      <th>remaining_lease</th>\n",
       "      <th>avg_storey</th>\n",
       "      <th>mean_price_by_town_rooms</th>\n",
       "    </tr>\n",
       "    <tr>\n",
       "      <th>_id</th>\n",
       "      <th></th>\n",
       "      <th></th>\n",
       "      <th></th>\n",
       "      <th></th>\n",
       "      <th></th>\n",
       "    </tr>\n",
       "  </thead>\n",
       "  <tbody>\n",
       "    <tr>\n",
       "      <th>152272</th>\n",
       "      <td>400000.0</td>\n",
       "      <td>73.0</td>\n",
       "      <td>54.75</td>\n",
       "      <td>2.0</td>\n",
       "      <td>399997.149425</td>\n",
       "    </tr>\n",
       "    <tr>\n",
       "      <th>152258</th>\n",
       "      <td>275000.0</td>\n",
       "      <td>44.0</td>\n",
       "      <td>53.75</td>\n",
       "      <td>2.0</td>\n",
       "      <td>293168.800000</td>\n",
       "    </tr>\n",
       "    <tr>\n",
       "      <th>152259</th>\n",
       "      <td>300000.0</td>\n",
       "      <td>45.0</td>\n",
       "      <td>61.75</td>\n",
       "      <td>8.0</td>\n",
       "      <td>293168.800000</td>\n",
       "    </tr>\n",
       "    <tr>\n",
       "      <th>152260</th>\n",
       "      <td>330000.0</td>\n",
       "      <td>68.0</td>\n",
       "      <td>56.75</td>\n",
       "      <td>2.0</td>\n",
       "      <td>399997.149425</td>\n",
       "    </tr>\n",
       "    <tr>\n",
       "      <th>152261</th>\n",
       "      <td>400000.0</td>\n",
       "      <td>67.0</td>\n",
       "      <td>54.75</td>\n",
       "      <td>8.0</td>\n",
       "      <td>399997.149425</td>\n",
       "    </tr>\n",
       "  </tbody>\n",
       "</table>\n",
       "</div>"
      ],
      "text/plain": [
       "        resale_price  floor_area_sqm  remaining_lease  avg_storey   \n",
       "_id                                                                 \n",
       "152272      400000.0            73.0            54.75         2.0  \\\n",
       "152258      275000.0            44.0            53.75         2.0   \n",
       "152259      300000.0            45.0            61.75         8.0   \n",
       "152260      330000.0            68.0            56.75         2.0   \n",
       "152261      400000.0            67.0            54.75         8.0   \n",
       "\n",
       "        mean_price_by_town_rooms  \n",
       "_id                               \n",
       "152272             399997.149425  \n",
       "152258             293168.800000  \n",
       "152259             293168.800000  \n",
       "152260             399997.149425  \n",
       "152261             399997.149425  "
      ]
     },
     "metadata": {},
     "output_type": "display_data"
    },
    {
     "name": "stdout",
     "output_type": "stream",
     "text": [
      "(1857, 5)\n"
     ]
    }
   ],
   "source": [
    "test_df = pd.read_csv('static/2023_05.csv', index_col=0)\n",
    "\n",
    "# Use previous dictionary of the town and rooms for mean encoding\n",
    "town_tuple = test_df.apply(columns_to_tuple, axis=1)\n",
    "town_tuple.name = 'mean_price_by_town_rooms'\n",
    "town_mean_price = town_tuple.map(town_mean_dict)\n",
    "test_df = pd.concat([test_df, town_mean_price], axis =1)\n",
    "test_df = test_df[['resale_price','floor_area_sqm', 'remaining_lease', 'avg_storey', 'mean_price_by_town_rooms']]\n",
    "display(test_df.head())\n",
    "print(test_df.shape)"
   ]
  },
  {
   "cell_type": "code",
   "execution_count": 26,
   "metadata": {},
   "outputs": [
    {
     "name": "stdout",
     "output_type": "stream",
     "text": [
      "R2 score for Random Forest Regressor: 0.935\n",
      "R2 score for Gradient Boosting Regressor: 0.94\n"
     ]
    }
   ],
   "source": [
    "X_test = test_df.iloc[:,1:]\n",
    "y_test = test_df.iloc[:,0]\n",
    "X_test = scaler.transform(X_test)\n",
    "\n",
    "r2 = r2_score(y_test, best_rfr.predict(X_test))\n",
    "print(f'R2 score for Random Forest Regressor: {np.round(r2,3)}')\n",
    "\n",
    "r2 = r2_score(y_test, best_gbc.predict(X_test))\n",
    "print(f'R2 score for Gradient Boosting Regressor: {np.round(r2,3)}')"
   ]
  },
  {
   "cell_type": "code",
   "execution_count": 34,
   "metadata": {},
   "outputs": [
    {
     "data": {
      "image/png": "[encoded data removed]",
      "text/plain": [
       "<Figure size 640x480 with 1 Axes>"
      ]
     },
     "metadata": {},
     "output_type": "display_data"
    }
   ],
   "source": [
    "# Plot r2 graphs\n",
    "plt.scatter(y_test,best_rfr.predict(X_test), marker='.', s=2)\n",
    "plt.title('R2 plot for Random Forest Regressor')\n",
    "plt.show()"
   ]
  },
  {
   "cell_type": "code",
   "execution_count": 35,
   "metadata": {},
   "outputs": [
    {
     "data": {
      "image/png": "[encoded data removed]",
      "text/plain": [
       "<Figure size 640x480 with 1 Axes>"
      ]
     },
     "metadata": {},
     "output_type": "display_data"
    }
   ],
   "source": [
    "# Plot r2 graphs\n",
    "plt.scatter(y_test,best_gbc.predict(X_test), marker='.', s=2)\n",
    "plt.title('R2 plot for Gradient Boosting Regressor')\n",
    "plt.show()"
   ]
  },
  {
   "attachments": {},
   "cell_type": "markdown",
   "metadata": {},
   "source": [
    "## Conclusion"
   ]
  },
  {
   "cell_type": "code",
   "execution_count": 21,
   "metadata": {},
   "outputs": [],
   "source": [
    "#joblib.dump(best_gbc, 'models/apr2023_gbc.joblib')"
   ]
  }
 ],
 "metadata": {
  "kernelspec": {
   "display_name": "base",
   "language": "python",
   "name": "python3"
  },
  "language_info": {
   "codemirror_mode": {
    "name": "ipython",
    "version": 3
   },
   "file_extension": ".py",
   "mimetype": "text/x-python",
   "name": "python",
   "nbconvert_exporter": "python",
   "pygments_lexer": "ipython3",
   "version": "3.10.8"
  },
  "orig_nbformat": 4
 },
 "nbformat": 4,
 "nbformat_minor": 2
}
